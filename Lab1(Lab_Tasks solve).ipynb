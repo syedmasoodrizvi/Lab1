{
 "cells": [
  {
   "cell_type": "code",
   "execution_count": 1,
   "id": "795df237",
   "metadata": {},
   "outputs": [],
   "source": [
    "#!pip install tensorflow"
   ]
  },
  {
   "cell_type": "markdown",
   "id": "fc807db3",
   "metadata": {},
   "source": [
    "# TASK 1\n",
    " \"Write a Python program that multiplies a TensorFlow tensor by a scalar value and prints the result.\n"
   ]
  },
  {
   "cell_type": "code",
   "execution_count": 1,
   "id": "13277fd5",
   "metadata": {},
   "outputs": [
    {
     "name": "stdout",
     "output_type": "stream",
     "text": [
      "Original Tensor: [100. 200. 300.]\n",
      "Scalar Value: 3.0\n",
      "Result Tensor (After multiplying the tensor by the scalar): [300. 600. 900.]\n"
     ]
    }
   ],
   "source": [
    "import tensorflow as tf\n",
    "\n",
    "# Create a TensorFlow tensor\n",
    "ts = tf.constant([100, 200, 300], dtype=tf.float32)\n",
    "\n",
    "# Define the scalar value\n",
    "sc = 3.0\n",
    "\n",
    "# Multiply the tensor by the scalar\n",
    "result_tensor = tf.multiply(ts, sc)\n",
    "\n",
    "# Print the result\n",
    "print(\"Original Tensor:\", ts.numpy())\n",
    "print(\"Scalar Value:\", sc)\n",
    "print(\"Result Tensor (After multiplying the tensor by the scalar):\", result_tensor.numpy())"
   ]
  },
  {
   "cell_type": "markdown",
   "id": "5900b749",
   "metadata": {},
   "source": [
    "# TASK 2\n",
    "Write a Python program that uses TensorFlow to compute the dot product of two vectors (1-D tensors).\n"
   ]
  },
  {
   "cell_type": "code",
   "execution_count": 2,
   "id": "3bb302af",
   "metadata": {},
   "outputs": [
    {
     "name": "stdout",
     "output_type": "stream",
     "text": [
      "Vector 1: [1. 2. 3.]\n",
      "Vector 2: [4. 5. 6.]\n",
      "Dot Product: 32.0\n"
     ]
    }
   ],
   "source": [
    "import tensorflow as tf\n",
    "\n",
    "# Define the first vector\n",
    "v1 = tf.constant([1.0, 2.0, 3.0], dtype=tf.float32)\n",
    "\n",
    "# Define the second vector\n",
    "v2 = tf.constant([4.0, 5.0, 6.0], dtype=tf.float32)\n",
    "\n",
    "# Compute the dot product of the two vectors\n",
    "dot_product = tf.reduce_sum(tf.multiply(v1, v2))\n",
    "\n",
    "# Print the result\n",
    "print(\"Vector 1:\", v1.numpy())\n",
    "print(\"Vector 2:\", v2.numpy())\n",
    "print(\"Dot Product:\", dot_product.numpy())"
   ]
  },
  {
   "cell_type": "markdown",
   "id": "3acb7a35",
   "metadata": {},
   "source": [
    "# TASK 3\n",
    "Write a TensorFlow program that creates two matrices, matrix1 and matrix2, with the following values:\n",
    "matrix1 = [[1, 2],\n",
    "                 [3, 4]]\n",
    "matrix2 = [[5, 6],\n",
    "                [7, 8]]\n",
    "Perform the athematic operations on these matric."
   ]
  },
  {
   "cell_type": "code",
   "execution_count": 3,
   "id": "508f0af1",
   "metadata": {},
   "outputs": [
    {
     "name": "stdout",
     "output_type": "stream",
     "text": [
      "Addition:\n",
      " tf.Tensor(\n",
      "[[ 6.  8.]\n",
      " [10. 12.]], shape=(2, 2), dtype=float32)\n",
      "\n",
      "Element-wise Multiplication:\n",
      " tf.Tensor(\n",
      "[[ 5. 12.]\n",
      " [21. 32.]], shape=(2, 2), dtype=float32)\n",
      "\n",
      "Matrix Multiplication:\n",
      " tf.Tensor(\n",
      "[[19. 22.]\n",
      " [43. 50.]], shape=(2, 2), dtype=float32)\n"
     ]
    }
   ],
   "source": [
    "import tensorflow as tf\n",
    "\n",
    "# Create the first matrix\n",
    "matrix1 = tf.constant([[1, 2],\n",
    "                       [3, 4]], dtype=tf.float32)\n",
    "\n",
    "# Create the second matrix\n",
    "matrix2 = tf.constant([[5, 6],\n",
    "                       [7, 8]], dtype=tf.float32)\n",
    "\n",
    "# Perform addition\n",
    "addition = tf.add(matrix1, matrix2)\n",
    "print(\"Addition:\\n\", addition)\n",
    "\n",
    "# Perform element-wise multiplication\n",
    "elementwise_multiplication = tf.multiply(matrix1, matrix2)\n",
    "print(\"\\nElement-wise Multiplication:\\n\", elementwise_multiplication)\n",
    "\n",
    "# Perform matrix multiplication\n",
    "matrix_multiplication = tf.matmul(matrix1, matrix2)\n",
    "print(\"\\nMatrix Multiplication:\\n\", matrix_multiplication)"
   ]
  },
  {
   "cell_type": "markdown",
   "id": "0be45ef1",
   "metadata": {},
   "source": [
    "1. Create a vector, scalar, matrix and tensor with values of your choosing using `tf.constant()`."
   ]
  },
  {
   "cell_type": "code",
   "execution_count": 4,
   "id": "f4d8719f",
   "metadata": {},
   "outputs": [
    {
     "name": "stdout",
     "output_type": "stream",
     "text": [
      "Vector:\n",
      " tf.Tensor([1. 2. 3. 4. 5.], shape=(5,), dtype=float32)\n",
      "\n",
      "Scalar:\n",
      " tf.Tensor(10.0, shape=(), dtype=float32)\n",
      "\n",
      "Matrix:\n",
      " tf.Tensor(\n",
      "[[1. 2. 3.]\n",
      " [4. 5. 6.]\n",
      " [7. 8. 9.]], shape=(3, 3), dtype=float32)\n",
      "\n",
      "Tensor:\n",
      " tf.Tensor(\n",
      "[[[ 1.  2.  3.]\n",
      "  [ 4.  5.  6.]]\n",
      "\n",
      " [[ 7.  8.  9.]\n",
      "  [10. 11. 12.]]], shape=(2, 2, 3), dtype=float32)\n"
     ]
    }
   ],
   "source": [
    "import tensorflow as tf\n",
    "\n",
    "# Create a vector\n",
    "vector = tf.constant([1, 2, 3, 4, 5], dtype=tf.float32)\n",
    "print(\"Vector:\\n\", vector)\n",
    "\n",
    "# Create a scalar\n",
    "scalar = tf.constant(10, dtype=tf.float32)\n",
    "print(\"\\nScalar:\\n\", scalar)\n",
    "\n",
    "# Create a matrix\n",
    "matrix = tf.constant([[1, 2, 3],\n",
    "                      [4, 5, 6],\n",
    "                      [7, 8, 9]], dtype=tf.float32)\n",
    "print(\"\\nMatrix:\\n\", matrix)\n",
    "\n",
    "# Create a tensor\n",
    "tensor = tf.constant([[[1, 2, 3],\n",
    "                      [4, 5, 6]],\n",
    "                     [[7, 8, 9],\n",
    "                      [10, 11, 12]]], dtype=tf.float32)\n",
    "print(\"\\nTensor:\\n\", tensor)"
   ]
  },
  {
   "cell_type": "markdown",
   "id": "9bce2945",
   "metadata": {},
   "source": [
    "2. Find the shape, rank and size of the tensors you created in 1."
   ]
  },
  {
   "cell_type": "code",
   "execution_count": 5,
   "id": "c3dc38ff",
   "metadata": {},
   "outputs": [
    {
     "name": "stdout",
     "output_type": "stream",
     "text": [
      "Vector:\n",
      "Shape: (5,)\n",
      "Rank: 1\n",
      "Size: 5\n",
      "\n",
      "Scalar:\n",
      "Shape: ()\n",
      "Rank: 0\n",
      "Size: 1.0\n",
      "\n",
      "Matrix:\n",
      "Shape: (3, 3)\n",
      "Rank: 2\n",
      "Size: 9\n",
      "\n",
      "Tensor:\n",
      "Shape: (2, 2, 3)\n",
      "Rank: 3\n",
      "Size: 12\n"
     ]
    }
   ],
   "source": [
    "import tensorflow as tf\n",
    "import numpy as np\n",
    "\n",
    "# Tensor created in Question 5\n",
    "vector = tf.constant([1, 2, 3, 4, 5], dtype=tf.float32)\n",
    "print(\"Vector:\")\n",
    "print(\"Shape:\", vector.shape)\n",
    "print(\"Rank:\", vector.shape.ndims)\n",
    "print(\"Size:\", np.prod(vector.shape))\n",
    "print()\n",
    "\n",
    "# Tensor created in Question 6\n",
    "scalar = tf.constant(10, dtype=tf.float32)\n",
    "print(\"Scalar:\")\n",
    "print(\"Shape:\", scalar.shape)\n",
    "print(\"Rank:\", scalar.shape.ndims)\n",
    "print(\"Size:\", np.prod(scalar.shape))\n",
    "print()\n",
    "\n",
    "# Tensor created in Question 7\n",
    "matrix = tf.constant([[1, 2, 3],\n",
    "                      [4, 5, 6],\n",
    "                      [7, 8, 9]], dtype=tf.float32)\n",
    "print(\"Matrix:\")\n",
    "print(\"Shape:\", matrix.shape)\n",
    "print(\"Rank:\", matrix.shape.ndims)\n",
    "print(\"Size:\", np.prod(matrix.shape))\n",
    "print()\n",
    "\n",
    "# Tensor created in Question 8\n",
    "tensor = tf.constant([[[1, 2, 3],\n",
    "                      [4, 5, 6]],\n",
    "                     [[7, 8, 9],\n",
    "                      [10, 11, 12]]], dtype=tf.float32)\n",
    "print(\"Tensor:\")\n",
    "print(\"Shape:\", tensor.shape)\n",
    "print(\"Rank:\", tensor.shape.ndims)\n",
    "print(\"Size:\", np.prod(tensor.shape))"
   ]
  },
  {
   "cell_type": "markdown",
   "id": "8a12285e",
   "metadata": {},
   "source": [
    "3. Create two tensors containing random values between 0 and 1 with shape `[5, 300]`."
   ]
  },
  {
   "cell_type": "code",
   "execution_count": 6,
   "id": "c5a4ecd4",
   "metadata": {},
   "outputs": [
    {
     "name": "stdout",
     "output_type": "stream",
     "text": [
      "Tensor 1:\n",
      "tf.Tensor(\n",
      "[[0.64020944 0.9761168  0.5842539  ... 0.92757154 0.8829379  0.4196037 ]\n",
      " [0.15789437 0.21851754 0.7437575  ... 0.9792918  0.41689932 0.30318832]\n",
      " [0.59020305 0.58157    0.7218816  ... 0.04705548 0.73524964 0.5714282 ]\n",
      " [0.36958182 0.28350496 0.31469774 ... 0.08172977 0.5154159  0.56748104]\n",
      " [0.08415782 0.45049095 0.9482596  ... 0.70083964 0.8529018  0.7644193 ]], shape=(5, 300), dtype=float32)\n",
      "\n",
      "Tensor 2:\n",
      "tf.Tensor(\n",
      "[[0.22159505 0.7973505  0.21192575 ... 0.8375406  0.56174874 0.63721573]\n",
      " [0.02265251 0.4683652  0.67855954 ... 0.48194325 0.4659555  0.3438282 ]\n",
      " [0.23140192 0.18164694 0.7269151  ... 0.59117377 0.04257905 0.668934  ]\n",
      " [0.7719257  0.54940224 0.44444835 ... 0.7298223  0.91765285 0.55103374]\n",
      " [0.5110959  0.68795264 0.7076999  ... 0.505203   0.79758143 0.71303916]], shape=(5, 300), dtype=float32)\n"
     ]
    }
   ],
   "source": [
    "import tensorflow as tf\n",
    "\n",
    "# Create two tensors with shape [5, 300] containing random values between 0 and 1\n",
    "tensor1 = tf.random.uniform(shape=[5, 300], minval=0.0, maxval=1.0)\n",
    "tensor2 = tf.random.uniform(shape=[5, 300], minval=0.0, maxval=1.0)\n",
    "\n",
    "# Print the tensors\n",
    "print(\"Tensor 1:\")\n",
    "print(tensor1)\n",
    "print(\"\\nTensor 2:\")\n",
    "print(tensor2)"
   ]
  },
  {
   "cell_type": "markdown",
   "id": "783d2a78",
   "metadata": {},
   "source": [
    "4. Multiply the two tensors you created in 3 using matrix multiplication."
   ]
  },
  {
   "cell_type": "code",
   "execution_count": 7,
   "id": "d2d1088f",
   "metadata": {},
   "outputs": [
    {
     "name": "stdout",
     "output_type": "stream",
     "text": [
      "\n",
      "Tensor product:\n",
      "tf.Tensor(\n",
      "[[1.2029393  1.7814785  1.456804   ... 1.5821671  0.86057127 1.2233453 ]\n",
      " [0.85713804 1.1701753  1.1915326  ... 1.638381   0.59476936 1.1202558 ]\n",
      " [0.833582   1.7407057  1.6171222  ... 0.886676   0.7535894  0.87253714]\n",
      " ...\n",
      " [0.65479225 1.0615613  0.94599956 ... 1.2205658  0.58669215 0.791223  ]\n",
      " [0.64034575 1.0778967  1.087518   ... 0.86403847 0.3289819  0.86484426]\n",
      " [0.727498   1.4363419  1.5635761  ... 1.1700091  0.4577326  1.1216078 ]], shape=(300, 300), dtype=float32)\n"
     ]
    }
   ],
   "source": [
    "import tensorflow as tf\n",
    "\n",
    "# Create two tensors with shape [5, 300] containing random values between 0 and 1\n",
    "tensor1 = tf.random.uniform(shape=[5, 300], minval=0.0, maxval=1.0)\n",
    "tensor2 = tf.random.uniform(shape=[5, 300], minval=0.0, maxval=1.0)\n",
    "\n",
    "\n",
    "# Multiply the two tensors using matrix multiplication\n",
    "transposed_tensor1 = tf.transpose(tensor1)\n",
    "tensor_product = tf.matmul(transposed_tensor1, tensor2)\n",
    "\n",
    "# Print the resulting tensor\n",
    "print(\"\\nTensor product:\")\n",
    "print(tensor_product)"
   ]
  },
  {
   "cell_type": "markdown",
   "id": "a77ccd5f",
   "metadata": {},
   "source": [
    "5. Multiply the two tensors you created in 3 using dot product."
   ]
  },
  {
   "cell_type": "code",
   "execution_count": 8,
   "id": "18f9ffe5",
   "metadata": {},
   "outputs": [
    {
     "name": "stdout",
     "output_type": "stream",
     "text": [
      "Tensor 1:\n",
      "tf.Tensor(\n",
      "[[0.99695706 0.6651579  0.3601333  ... 0.10567415 0.9732647  0.79180586]\n",
      " [0.13126516 0.71095884 0.01380277 ... 0.0448314  0.47244334 0.5928904 ]\n",
      " [0.62651956 0.12958884 0.9176309  ... 0.03698003 0.25952637 0.08839023]\n",
      " [0.6474335  0.33357263 0.07035589 ... 0.8128699  0.29043913 0.21469343]\n",
      " [0.6428242  0.41143334 0.27296197 ... 0.25763392 0.15794683 0.8888694 ]], shape=(5, 300), dtype=float32)\n",
      "\n",
      "Tensor 2:\n",
      "tf.Tensor(\n",
      "[[0.6801393  0.17847264 0.10493982 ... 0.39302862 0.9483198  0.49303496]\n",
      " [0.46962667 0.23623645 0.09352851 ... 0.46345472 0.08347523 0.06868505]\n",
      " [0.19907296 0.8416482  0.3202771  ... 0.36533916 0.76323545 0.2797792 ]\n",
      " [0.22979057 0.8163152  0.26728547 ... 0.8815844  0.74244523 0.55373883]\n",
      " [0.41632926 0.4873891  0.9557154  ... 0.2650702  0.27314317 0.6039188 ]], shape=(5, 300), dtype=float32)\n",
      "\n",
      "Tensor product:\n",
      "tf.Tensor(\n",
      "[[67.81766  70.34081  73.89763  76.64162  71.433685]\n",
      " [70.740555 75.261826 72.51328  79.147606 71.719734]\n",
      " [71.538315 74.34914  75.03575  77.36395  73.09387 ]\n",
      " [69.1075   71.35826  71.74066  76.50084  69.77794 ]\n",
      " [70.6976   74.9851   76.35388  78.90953  75.80702 ]], shape=(5, 5), dtype=float32)\n"
     ]
    }
   ],
   "source": [
    "import tensorflow as tf\n",
    "\n",
    "# Create two tensors with shape [5, 300] containing random values between 0 and 1\n",
    "tensor1 = tf.random.uniform(shape=[5, 300], minval=0.0, maxval=1.0)\n",
    "tensor2 = tf.random.uniform(shape=[5, 300], minval=0.0, maxval=1.0)\n",
    "\n",
    "# Print the tensors\n",
    "print(\"Tensor 1:\")\n",
    "print(tensor1)\n",
    "print(\"\\nTensor 2:\")\n",
    "print(tensor2)\n",
    "\n",
    "# Multiply the two tensors using dot product\n",
    "tensor_product = tf.tensordot(tensor1, tensor2, axes=[[1], [1]])\n",
    "\n",
    "# Print the resulting tensor\n",
    "print(\"\\nTensor product:\")\n",
    "print(tensor_product)"
   ]
  },
  {
   "cell_type": "markdown",
   "id": "6c94a0cf",
   "metadata": {},
   "source": [
    "6. Create a tensor with random values between 0 and 1 with shape [224, 224, 3]."
   ]
  },
  {
   "cell_type": "code",
   "execution_count": 9,
   "id": "f29cf225",
   "metadata": {},
   "outputs": [
    {
     "name": "stdout",
     "output_type": "stream",
     "text": [
      "tf.Tensor(\n",
      "[[[[0.5989486  0.68783903 0.13697422]\n",
      "   [0.65451384 0.71143675 0.20342493]\n",
      "   [0.7184638  0.05879951 0.21743202]\n",
      "   ...\n",
      "   [0.31885147 0.7074833  0.8567456 ]\n",
      "   [0.5073763  0.6375313  0.01327062]\n",
      "   [0.4970864  0.73669684 0.87858367]]\n",
      "\n",
      "  [[0.24464858 0.36512196 0.9937495 ]\n",
      "   [0.6639489  0.1670816  0.4427222 ]\n",
      "   [0.17125821 0.23438835 0.91667473]\n",
      "   ...\n",
      "   [0.4251424  0.10490131 0.05941546]\n",
      "   [0.95075274 0.63600385 0.8970835 ]\n",
      "   [0.6039859  0.04957318 0.05729556]]\n",
      "\n",
      "  [[0.30108285 0.7810253  0.5042217 ]\n",
      "   [0.78157926 0.9796475  0.8378432 ]\n",
      "   [0.80948377 0.21394491 0.10016501]\n",
      "   ...\n",
      "   [0.517859   0.79433227 0.16505969]\n",
      "   [0.36588597 0.7055205  0.39573324]\n",
      "   [0.851977   0.63127255 0.48660517]]\n",
      "\n",
      "  ...\n",
      "\n",
      "  [[0.8428682  0.35616004 0.70425236]\n",
      "   [0.6832316  0.4986571  0.6572683 ]\n",
      "   [0.18834889 0.8768778  0.05528724]\n",
      "   ...\n",
      "   [0.22928    0.98557556 0.99442804]\n",
      "   [0.44551945 0.37791324 0.35909462]\n",
      "   [0.92568433 0.10338128 0.03211343]]\n",
      "\n",
      "  [[0.7301638  0.10218859 0.07239926]\n",
      "   [0.33822823 0.19527233 0.24322283]\n",
      "   [0.1496532  0.19944477 0.11176348]\n",
      "   ...\n",
      "   [0.56743383 0.7227726  0.74105644]\n",
      "   [0.48338163 0.40682697 0.17854774]\n",
      "   [0.6551262  0.67081773 0.7877146 ]]\n",
      "\n",
      "  [[0.06520009 0.3271078  0.9920871 ]\n",
      "   [0.04412913 0.64240956 0.3072567 ]\n",
      "   [0.87848675 0.54016435 0.9514319 ]\n",
      "   ...\n",
      "   [0.98571265 0.91385424 0.11745036]\n",
      "   [0.07583034 0.07424557 0.7874322 ]\n",
      "   [0.48437715 0.26432526 0.03479218]]]], shape=(1, 224, 224, 3), dtype=float32)\n"
     ]
    }
   ],
   "source": [
    "import tensorflow as tf\n",
    "\n",
    "# Create a tensor with random values between 0 and 1\n",
    "tensor = tf.keras.layers.Input(shape=(224, 224, 3))\n",
    "\n",
    "# Generate a batch of random samples\n",
    "samples = tf.keras.backend.random_uniform(shape=(1, 224, 224, 3))\n",
    "\n",
    "# Print the samples\n",
    "print(samples)"
   ]
  },
  {
   "cell_type": "markdown",
   "id": "a6c197bf",
   "metadata": {},
   "source": [
    "7. Find the min and max values of the tensor you created in 6."
   ]
  },
  {
   "cell_type": "code",
   "execution_count": 10,
   "id": "c4e1d474",
   "metadata": {},
   "outputs": [
    {
     "name": "stdout",
     "output_type": "stream",
     "text": [
      "Minimum value: tf.Tensor(8.702278e-06, shape=(), dtype=float32)\n",
      "Maximum value: tf.Tensor(0.9999951, shape=(), dtype=float32)\n"
     ]
    }
   ],
   "source": [
    "import tensorflow as tf\n",
    "\n",
    "# Create a tensor with random values between 0 and 1\n",
    "tensor = tf.random.uniform([224, 224, 3], minval=0, maxval=1)\n",
    "\n",
    "# Find the minimum value of the tensor\n",
    "min_value = tf.reduce_min(tensor)\n",
    "\n",
    "# Find the maximum value of the tensor\n",
    "max_value = tf.reduce_max(tensor)\n",
    "\n",
    "# Print the minimum and maximum values\n",
    "print(\"Minimum value:\", min_value)\n",
    "print(\"Maximum value:\", max_value)"
   ]
  },
  {
   "cell_type": "markdown",
   "id": "ad1d7f10",
   "metadata": {},
   "source": [
    "8. Created a tensor with random values of shape [1, 224, 224, 3] then squeeze it to change the shape to [224, 224, 3]."
   ]
  },
  {
   "cell_type": "code",
   "execution_count": 11,
   "id": "163b6385",
   "metadata": {},
   "outputs": [
    {
     "name": "stdout",
     "output_type": "stream",
     "text": [
      "tf.Tensor(\n",
      "[[[8.82415175e-01 9.84435081e-01 1.10404968e-01]\n",
      "  [1.49657607e-01 5.50502300e-01 4.93664742e-01]\n",
      "  [5.92301846e-01 3.37540388e-01 7.96338558e-01]\n",
      "  ...\n",
      "  [9.39875364e-01 9.78080392e-01 1.10979676e-01]\n",
      "  [8.99058700e-01 2.22120285e-01 6.67998910e-01]\n",
      "  [7.93521404e-02 1.89942837e-01 3.82443905e-01]]\n",
      "\n",
      " [[6.07552290e-01 7.19062924e-01 5.96724391e-01]\n",
      "  [3.36555600e-01 7.24540830e-01 1.05952859e-01]\n",
      "  [4.26440239e-02 7.13460445e-01 4.88586545e-01]\n",
      "  ...\n",
      "  [9.69097614e-01 1.32578254e-01 4.92437363e-01]\n",
      "  [7.80940056e-01 1.58882499e-01 2.30111361e-01]\n",
      "  [4.73810077e-01 4.11925316e-02 4.36415672e-02]]\n",
      "\n",
      " [[2.59062767e-01 1.24123812e-01 7.40363955e-01]\n",
      "  [9.83423591e-01 2.13741183e-01 9.26341176e-01]\n",
      "  [3.88996720e-01 7.84497738e-01 1.55217171e-01]\n",
      "  ...\n",
      "  [4.92957234e-01 9.44784760e-01 6.29107952e-01]\n",
      "  [3.68623853e-01 1.89965963e-02 3.92557740e-01]\n",
      "  [3.34197164e-01 2.99305439e-01 4.92501140e-01]]\n",
      "\n",
      " ...\n",
      "\n",
      " [[1.10081553e-01 9.93997097e-01 5.86717606e-01]\n",
      "  [4.04523134e-01 9.89179969e-01 4.36610103e-01]\n",
      "  [2.75607347e-01 3.45110893e-04 1.62118554e-01]\n",
      "  ...\n",
      "  [6.71546221e-01 4.86890435e-01 5.72633982e-01]\n",
      "  [6.27372146e-01 5.74804425e-01 8.48992348e-01]\n",
      "  [2.37651229e-01 8.41342449e-01 9.28858638e-01]]\n",
      "\n",
      " [[8.80846024e-01 1.19321346e-02 8.49533796e-01]\n",
      "  [7.54617214e-01 7.47542381e-02 8.64577651e-01]\n",
      "  [1.59170151e-01 9.75903511e-01 8.92871499e-01]\n",
      "  ...\n",
      "  [9.10057068e-01 3.37312222e-01 9.57330227e-01]\n",
      "  [9.67998743e-01 5.14775872e-01 2.90555716e-01]\n",
      "  [9.93060589e-01 4.35821056e-01 9.54571486e-01]]\n",
      "\n",
      " [[1.25994802e-01 7.24768996e-01 3.99056196e-01]\n",
      "  [6.10044956e-01 2.80844212e-01 9.86050367e-02]\n",
      "  [9.97918010e-01 4.20672417e-01 3.37612748e-01]\n",
      "  ...\n",
      "  [6.30233884e-01 7.27897048e-01 4.21068072e-01]\n",
      "  [2.63695240e-01 7.64092684e-01 9.82730627e-01]\n",
      "  [2.45832205e-01 3.62370372e-01 5.55849791e-01]]], shape=(224, 224, 3), dtype=float32)\n"
     ]
    }
   ],
   "source": [
    "import tensorflow as tf\n",
    "\n",
    "# Create a tensor with random values of shape [1, 224, 224, 3]\n",
    "tensor = tf.random.uniform([1, 224, 224, 3], minval=0, maxval=1)\n",
    "\n",
    "# Squeeze the tensor to change the shape to [224, 224, 3]\n",
    "squeezed_tensor = tf.squeeze(tensor, axis=0)\n",
    "\n",
    "# Print the squeezed tensor\n",
    "print(squeezed_tensor)"
   ]
  },
  {
   "cell_type": "markdown",
   "id": "418156aa",
   "metadata": {},
   "source": [
    "9. Create a tensor with shape [10] using your own choice of values, then find the index which has the maximum value."
   ]
  },
  {
   "cell_type": "code",
   "execution_count": 12,
   "id": "4ebf6bd0",
   "metadata": {},
   "outputs": [
    {
     "name": "stdout",
     "output_type": "stream",
     "text": [
      "Maximum value: tf.Tensor(0.9, shape=(), dtype=float32)\n",
      "Index of maximum value: tf.Tensor(4, shape=(), dtype=int64)\n"
     ]
    }
   ],
   "source": [
    "import tensorflow as tf\n",
    "\n",
    "# Create a tensor with shape [10] using your own choice of values\n",
    "tensor = tf.constant([0.2, 0.5, 0.8, 0.3, 0.9, 0.1, 0.7, 0.4, 0.6, 0.5])\n",
    "\n",
    "# Find the index which has the maximum value\n",
    "max_index = tf.argmax(tensor)\n",
    "\n",
    "# Print the maximum value and its index\n",
    "print(\"Maximum value:\", tf.reduce_max(tensor))\n",
    "print(\"Index of maximum value:\", max_index)"
   ]
  },
  {
   "cell_type": "markdown",
   "id": "bd26bb55",
   "metadata": {},
   "source": [
    "10. One-hot encode the tensor you created in 9."
   ]
  },
  {
   "cell_type": "code",
   "execution_count": 13,
   "id": "4e572776",
   "metadata": {},
   "outputs": [
    {
     "name": "stdout",
     "output_type": "stream",
     "text": [
      "Maximum value: tf.Tensor(0.9, shape=(), dtype=float32)\n",
      "Index of maximum value: tf.Tensor(4, shape=(), dtype=int64)\n",
      "One-hot encoded tensor:\n",
      "tf.Tensor([0. 0. 0. 0. 1. 0. 0. 0. 0. 0.], shape=(10,), dtype=float32)\n"
     ]
    }
   ],
   "source": [
    "import tensorflow as tf\n",
    "\n",
    "# Create a tensor with shape [10] using your own choice of values\n",
    "tensor = tf.constant([0.2, 0.5, 0.8, 0.3, 0.9, 0.1, 0.7, 0.4, 0.6, 0.5])\n",
    "\n",
    "# Find the index which has the maximum value\n",
    "max_index = tf.argmax(tensor)\n",
    "\n",
    "# One-hot encode the tensor\n",
    "one_hot_tensor = tf.one_hot(max_index, depth=tensor.shape[0])\n",
    "\n",
    "# Print the maximum value and its index\n",
    "print(\"Maximum value:\", tf.reduce_max(tensor))\n",
    "print(\"Index of maximum value:\", max_index)\n",
    "\n",
    "# Print the one-hot encoded tensor\n",
    "print(\"One-hot encoded tensor:\")\n",
    "print(one_hot_tensor)"
   ]
  },
  {
   "cell_type": "code",
   "execution_count": null,
   "id": "209c8c89",
   "metadata": {},
   "outputs": [],
   "source": []
  }
 ],
 "metadata": {
  "kernelspec": {
   "display_name": "Python 3 (ipykernel)",
   "language": "python",
   "name": "python3"
  },
  "language_info": {
   "codemirror_mode": {
    "name": "ipython",
    "version": 3
   },
   "file_extension": ".py",
   "mimetype": "text/x-python",
   "name": "python",
   "nbconvert_exporter": "python",
   "pygments_lexer": "ipython3",
   "version": "3.10.12"
  }
 },
 "nbformat": 4,
 "nbformat_minor": 5
}
